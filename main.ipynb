{
 "cells": [
  {
   "cell_type": "code",
   "execution_count": 5,
   "metadata": {},
   "outputs": [],
   "source": [
    "import base64\n",
    "import os\n",
    "\n",
    "import cv2\n",
    "import numpy as np\n",
    "import requests\n",
    "import pickle\n",
    "\n",
    "url = 'http://localhost:8080/api/gethog'\n",
    "\n",
    "class_brand = ['Audi', 'Hyundai Creta', 'Mahindra Scorpio', 'Rolls Royce',\n",
    "               'Swift', 'Tata Safari', 'Toyota Innova']\n",
    "\n",
    "def img2HOG(img):\n",
    "    v,buffer = cv2.imencode('.jpg',img)\n",
    "    img_str = base64.b64encode(buffer)\n",
    "    data = \"image data,\"+str.split(str(img_str),\"'\")[1]\n",
    "    response = requests.get(url,json={\"img\":data})\n",
    "    \n",
    "    return response.json()\n",
    "\n",
    "def readData(path):\n",
    "    response = []\n",
    "    for folder in os.listdir(path):\n",
    "        for img_name in os.listdir(path+'/'+folder):\n",
    "            img_path = path+'/'+folder+'/'+img_name\n",
    "            img = cv2.imread(img_path)\n",
    "            res = img2HOG(img)\n",
    "            hog = list(res[\"HOG\"])\n",
    "            hog.append(class_brand.index(folder))\n",
    "            response.append(hog)\n",
    "    \n",
    "    return response\n"
   ]
  },
  {
   "cell_type": "code",
   "execution_count": null,
   "metadata": {},
   "outputs": [],
   "source": [
    "# %% Read Data Train\n",
    "path = r'Cars Dataset\\train'\n",
    "datasetHOG = readData(path)"
   ]
  },
  {
   "cell_type": "code",
   "execution_count": null,
   "metadata": {},
   "outputs": [],
   "source": [
    "# %% Save data train into pickle\n",
    "write_path = \"imgHOG.pkl\"\n",
    "pickle.dump(datasetHOG,open(write_path,\"wb\"))\n"
   ]
  },
  {
   "cell_type": "code",
   "execution_count": 6,
   "metadata": {},
   "outputs": [
    {
     "name": "stdout",
     "output_type": "stream",
     "text": [
      "3352\n"
     ]
    }
   ],
   "source": [
    "# %% Load data train\n",
    "imgHog = pickle.load(open('imgHog.pkl','rb'))\n",
    "print(len(imgHog))"
   ]
  },
  {
   "cell_type": "code",
   "execution_count": 7,
   "metadata": {},
   "outputs": [],
   "source": [
    "# %% Convert list to array\n",
    "imgHog_np = np.array(imgHog)\n",
    "x_train = imgHog_np[:,0:-1]\n",
    "y_train = imgHog_np[:,-1]"
   ]
  },
  {
   "cell_type": "code",
   "execution_count": null,
   "metadata": {},
   "outputs": [],
   "source": [
    "# %% check size data\n",
    "print(x_train.shape)\n",
    "print(y_train.shape)"
   ]
  },
  {
   "cell_type": "code",
   "execution_count": null,
   "metadata": {},
   "outputs": [],
   "source": [
    "# %% Read data Test \n",
    "path_test = r'Cars Dataset\\test'\n",
    "dataset_test = readData(path_test)"
   ]
  },
  {
   "cell_type": "code",
   "execution_count": null,
   "metadata": {},
   "outputs": [],
   "source": [
    "# %% save data Test\n",
    "write_path = \"imgHOG_test.pkl\"\n",
    "pickle.dump(dataset_test,open(write_path,\"wb\"))\n"
   ]
  },
  {
   "cell_type": "code",
   "execution_count": 8,
   "metadata": {},
   "outputs": [
    {
     "name": "stdout",
     "output_type": "stream",
     "text": [
      "813\n"
     ]
    }
   ],
   "source": [
    "# %% Load data Test\n",
    "dataset_test = pickle.load(open('imgHOG_test.pkl','rb'))\n",
    "print(len(dataset_test))"
   ]
  },
  {
   "cell_type": "code",
   "execution_count": 9,
   "metadata": {},
   "outputs": [],
   "source": [
    "# %% Convert list to array\n",
    "dataset_test_np = np.array(dataset_test)\n",
    "x_test = dataset_test_np[:,0:-1]\n",
    "y_test = dataset_test_np[:,-1]"
   ]
  },
  {
   "cell_type": "code",
   "execution_count": null,
   "metadata": {},
   "outputs": [],
   "source": [
    "# %% Train Model DecisionTree\n",
    "from sklearn.tree import DecisionTreeClassifier\n",
    "\n",
    "clf = DecisionTreeClassifier()\n",
    "clf.fit(x_train,y_train)\n"
   ]
  },
  {
   "cell_type": "code",
   "execution_count": 11,
   "metadata": {},
   "outputs": [
    {
     "name": "stdout",
     "output_type": "stream",
     "text": [
      "accuracy =  48.33948339483395\n",
      "Confusion Mectrix :\n",
      " [[ 78  17  19  17  18  21  29]\n",
      " [ 11  40   2   1   2   2   9]\n",
      " [ 11   2  26   7   6   8  15]\n",
      " [ 24   4   9  13   4   6  14]\n",
      " [ 12  10   6   3  50   1  20]\n",
      " [ 13   2   4   7   5  66   9]\n",
      " [ 24   6   6  11  16   7 120]]\n"
     ]
    }
   ],
   "source": [
    "# %% Predict model DecisionTree\n",
    "from sklearn import metrics\n",
    "\n",
    "y_pred = clf.predict(x_test)\n",
    "acc = metrics.accuracy_score(y_test,y_pred)\n",
    "cofus_mect = metrics.confusion_matrix(y_test,y_pred)\n",
    "print(\"accuracy = \",acc*100)\n",
    "print('Confusion Mectrix :\\n',cofus_mect)\n"
   ]
  },
  {
   "cell_type": "code",
   "execution_count": null,
   "metadata": {},
   "outputs": [],
   "source": [
    "# %% Save model DecisionTree\n",
    "path_model = 'cls_carModel.pkl'\n",
    "pickle.dump(clf,open(path_model,'wb'))\n"
   ]
  },
  {
   "cell_type": "code",
   "execution_count": null,
   "metadata": {},
   "outputs": [],
   "source": [
    "# %% Train Model Xgboost\n",
    "from xgboost import XGBClassifier\n",
    "\n",
    "xgb = XGBClassifier(use_label_encoder=False, eval_metric='mlogloss')\n",
    "xgb.fit(x_train,y_train)\n"
   ]
  },
  {
   "cell_type": "code",
   "execution_count": 13,
   "metadata": {},
   "outputs": [
    {
     "name": "stdout",
     "output_type": "stream",
     "text": [
      "accuracy =  65.68265682656826\n",
      "Confusion Mectrix :\n",
      " [[162   3   2   5   5   8  14]\n",
      " [  7  41   2   2   3   1  11]\n",
      " [  9   0  37   0   5   3  21]\n",
      " [ 44   2   3  13   3   1   8]\n",
      " [ 14   0   2   2  51   3  30]\n",
      " [ 15   1   1   0   3  78   8]\n",
      " [ 25   0   1   4   4   4 152]]\n"
     ]
    }
   ],
   "source": [
    "# %% Predict model Xgboost\n",
    "y_pred_xgb = xgb.predict(x_test)\n",
    "acc_xgb = metrics.accuracy_score(y_test,y_pred_xgb)\n",
    "cofus_mect_xgb = metrics.confusion_matrix(y_test,y_pred_xgb)\n",
    "print(\"accuracy = \",acc_xgb*100)\n",
    "print('Confusion Mectrix :\\n',cofus_mect_xgb)\n"
   ]
  },
  {
   "cell_type": "code",
   "execution_count": null,
   "metadata": {},
   "outputs": [],
   "source": [
    "# %% Save model Xgboost\n",
    "path_model = 'model_XGB.pkl'\n",
    "pickle.dump(xgb,open(path_model,'wb'))\n"
   ]
  },
  {
   "cell_type": "code",
   "execution_count": null,
   "metadata": {},
   "outputs": [],
   "source": [
    "# %%  Train Model SVC\n",
    "from sklearn.svm import SVC\n",
    "\n",
    "svc = SVC(kernel='rbf', probability=True)\n",
    "svc.fit(x_train,y_train)\n"
   ]
  },
  {
   "cell_type": "code",
   "execution_count": 16,
   "metadata": {},
   "outputs": [
    {
     "name": "stdout",
     "output_type": "stream",
     "text": [
      "accuracy =  65.43665436654366\n",
      "Confusion Mectrix :\n",
      " [[173   0   1   3   4   3  15]\n",
      " [ 14  32   2   0   1   0  18]\n",
      " [  9   0  31   0   3   1  31]\n",
      " [ 48   0   3  10   1   0  12]\n",
      " [ 19   0   2   1  52   1  27]\n",
      " [ 16   0   2   0   3  73  12]\n",
      " [ 24   1   0   0   3   1 161]]\n"
     ]
    }
   ],
   "source": [
    "# %% Predict model SVC\n",
    "y_pred_svc = svc.predict(x_test)\n",
    "acc_svc = metrics.accuracy_score(y_test,y_pred_svc)\n",
    "cofus_mect_svc = metrics.confusion_matrix(y_test,y_pred_svc)\n",
    "print(\"accuracy = \",acc_svc*100)\n",
    "print('Confusion Mectrix :\\n',cofus_mect_svc)"
   ]
  },
  {
   "cell_type": "code",
   "execution_count": null,
   "metadata": {},
   "outputs": [],
   "source": [
    "# %% Save model SVC\n",
    "path_model = 'model_svc.pkl'\n",
    "pickle.dump(svc,open(path_model,'wb'))\n"
   ]
  },
  {
   "cell_type": "code",
   "execution_count": null,
   "metadata": {},
   "outputs": [],
   "source": [
    "# %% VotingClassifier\n",
    "from sklearn.ensemble import VotingClassifier\n",
    "\n",
    "vot =  VotingClassifier(estimators=[\n",
    "        ('dt', clf), ('xgb', xgb), ('svc', svc)],\n",
    "        voting='hard')\n",
    "vot.fit(x_train,y_train)\n"
   ]
  },
  {
   "cell_type": "code",
   "execution_count": 18,
   "metadata": {},
   "outputs": [
    {
     "name": "stdout",
     "output_type": "stream",
     "text": [
      "accuracy =  66.29766297662977\n",
      "Confusion Mectrix :\n",
      " [[181   0   0   2   2   3  11]\n",
      " [ 14  38   2   1   1   0  11]\n",
      " [ 17   0  34   1   2   1  20]\n",
      " [ 51   3   3  11   0   0   6]\n",
      " [ 19   1   2   1  51   1  27]\n",
      " [ 17   0   1   2   5  74   7]\n",
      " [ 30   0   0   4   5   1 150]]\n"
     ]
    }
   ],
   "source": [
    "# %% Predict model VotingClassifier\n",
    "y_pred_vot = vot.predict(x_test)\n",
    "acc_vot = metrics.accuracy_score(y_test,y_pred_vot)\n",
    "cofus_mect_vot = metrics.confusion_matrix(y_test,y_pred_vot)\n",
    "print(\"accuracy = \",acc_vot*100)\n",
    "print('Confusion Mectrix :\\n',cofus_mect_vot)\n"
   ]
  },
  {
   "cell_type": "code",
   "execution_count": null,
   "metadata": {},
   "outputs": [],
   "source": [
    "# %% Save model vot\n",
    "path_model = 'model_vot.pkl'\n",
    "pickle.dump(vot,open(path_model,'wb'))\n"
   ]
  }
 ],
 "metadata": {
  "kernelspec": {
   "display_name": "env",
   "language": "python",
   "name": "python3"
  },
  "language_info": {
   "codemirror_mode": {
    "name": "ipython",
    "version": 3
   },
   "file_extension": ".py",
   "mimetype": "text/x-python",
   "name": "python",
   "nbconvert_exporter": "python",
   "pygments_lexer": "ipython3",
   "version": "3.9.10"
  },
  "orig_nbformat": 4
 },
 "nbformat": 4,
 "nbformat_minor": 2
}
